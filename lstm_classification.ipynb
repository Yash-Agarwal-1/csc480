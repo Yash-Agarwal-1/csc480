{
 "cells": [
  {
   "cell_type": "code",
   "execution_count": 277,
   "id": "427e5cee-707a-45a8-afda-a62857b72dbf",
   "metadata": {},
   "outputs": [
    {
     "name": "stdout",
     "output_type": "stream",
     "text": [
      "[*********************100%%**********************]  1 of 1 completed\n",
      "WARNING:tensorflow:Layer lstm_63 will not use cuDNN kernels since it doesn't meet the criteria. It will use a generic GPU kernel as fallback when running on GPU.\n"
     ]
    },
    {
     "name": "stderr",
     "output_type": "stream",
     "text": [
      "/var/folders/04/w3ml6jcn3zg65sc3958sg05w0000gn/T/ipykernel_90103/1326734881.py:51: SettingWithCopyWarning: \n",
      "A value is trying to be set on a copy of a slice from a DataFrame.\n",
      "Try using .loc[row_indexer,col_indexer] = value instead\n",
      "\n",
      "See the caveats in the documentation: https://pandas.pydata.org/pandas-docs/stable/user_guide/indexing.html#returning-a-view-versus-a-copy\n",
      "  stock_data['Signal'] = 0  # Default value - no action\n"
     ]
    }
   ],
   "source": [
    "import numpy as np\n",
    "import pandas as pd\n",
    "import matplotlib.pyplot as plt\n",
    "import yfinance as yf\n",
    "from sklearn.preprocessing import MinMaxScaler\n",
    "from tensorflow.keras.models import Sequential\n",
    "from tensorflow.keras.layers import LSTM, Dense\n",
    "from finta import TA  # Technical Analysis Library for financial indicators\n",
    "\n",
    "def download_stock_data(ticker, start_date, end_date):\n",
    "    stock_data = yf.download(ticker, start=start_date, end=end_date)\n",
    "    return stock_data\n",
    "\n",
    "def prepare_data_multi_feature(data, labels, window_size):\n",
    "    X, y = [], []\n",
    "    for i in range(len(data) - window_size - future_window):\n",
    "        window = data[i:(i + window_size)]\n",
    "        X.append(window)\n",
    "        y.append(labels[i + window_size])\n",
    "    return np.array(X), np.array(y)\n",
    "\n",
    "def create_lstm_model_classification(window_size, num_features):\n",
    "    model = Sequential()\n",
    "    model.add(LSTM(50, activation='relu', input_shape=(window_size, num_features)))\n",
    "    model.add(Dense(1, activation='sigmoid'))\n",
    "    model.compile(optimizer='adam', loss='binary_crossentropy', metrics=['accuracy'])\n",
    "    return model\n",
    "\n",
    "ticker_symbol = 'AAPL'\n",
    "start_date = '2010-01-01'\n",
    "end_date = '2023-01-01'\n",
    "future_window = 1\n",
    "window_size = 10\n",
    "\n",
    "stock_data = download_stock_data(ticker_symbol, start_date, end_date)\n",
    "\n",
    "stock_data['RSI'] = TA.RSI(stock_data)\n",
    "stock_data['MA'] = TA.SMA(stock_data, 12)\n",
    "stock_data['MACD'] = TA.MACD(stock_data)['MACD']\n",
    "stock_data['MACD_Signal'] = TA.MACD(stock_data)['SIGNAL']\n",
    "\n",
    "# Drop NaN values created by MA and RSI calculations\n",
    "stock_data = stock_data.dropna()\n",
    "\n",
    "stock_data['Signal'] = 0 \n",
    "stock_data.loc[stock_data['MACD'] > stock_data['MACD_Signal'], 'Signal'] = 1  # Buy signal\n",
    "stock_data.loc[stock_data['MACD'] < stock_data['MACD_Signal'], 'Signal'] = 0  # Sell signal\n",
    "\n",
    "train_size = int(len(stock_data) * 0.8)\n",
    "train_data = stock_data[:train_size]\n",
    "test_data = stock_data[train_size:]\n",
    "\n",
    "train_features = train_data[['Close', 'RSI', 'MA']].values\n",
    "train_labels = np.where(np.roll(train_data['Close'].values, -future_window) > train_data['Close'].values, 1, 0)[:-future_window]\n",
    "\n",
    "scaler = MinMaxScaler(feature_range=(0, 1))\n",
    "train_features_scaled = scaler.fit_transform(train_features)\n",
    "\n",
    "X_train, y_train = prepare_data_multi_feature(train_features_scaled, train_labels, window_size)\n",
    "X_train = np.reshape(X_train, (X_train.shape[0], X_train.shape[1], X_train.shape[2]))\n",
    "\n",
    "\n",
    "model = create_lstm_model_classification(window_size, X_train.shape[2])\n"
   ]
  },
  {
   "cell_type": "code",
   "execution_count": 278,
   "id": "9c92233e-62b3-4461-b496-09f4bec3d9ae",
   "metadata": {},
   "outputs": [
    {
     "name": "stdout",
     "output_type": "stream",
     "text": [
      "Epoch 1/10\n",
      "82/82 [==============================] - 12s 125ms/step - loss: 0.6924 - accuracy: 0.5191\n",
      "Epoch 2/10\n",
      "82/82 [==============================] - 8s 101ms/step - loss: 0.6925 - accuracy: 0.5279\n",
      "Epoch 3/10\n",
      "82/82 [==============================] - 8s 103ms/step - loss: 0.6916 - accuracy: 0.5279\n",
      "Epoch 4/10\n",
      "82/82 [==============================] - 9s 104ms/step - loss: 0.6918 - accuracy: 0.5279\n",
      "Epoch 5/10\n",
      "82/82 [==============================] - 8s 100ms/step - loss: 0.6923 - accuracy: 0.5279\n",
      "Epoch 6/10\n",
      "82/82 [==============================] - 8s 103ms/step - loss: 0.6918 - accuracy: 0.5260\n",
      "Epoch 7/10\n",
      "82/82 [==============================] - 8s 100ms/step - loss: 0.6914 - accuracy: 0.5283\n",
      "Epoch 8/10\n",
      "82/82 [==============================] - 9s 104ms/step - loss: 0.6915 - accuracy: 0.5306\n",
      "Epoch 9/10\n",
      "82/82 [==============================] - 8s 101ms/step - loss: 0.6914 - accuracy: 0.5291\n",
      "Epoch 10/10\n",
      "82/82 [==============================] - 9s 111ms/step - loss: 0.6914 - accuracy: 0.5298\n"
     ]
    },
    {
     "data": {
      "text/plain": [
       "<keras.src.callbacks.History at 0x4577d7c10>"
      ]
     },
     "execution_count": 278,
     "metadata": {},
     "output_type": "execute_result"
    }
   ],
   "source": [
    "model.fit(X_train, y_train, epochs=10, batch_size=32)"
   ]
  },
  {
   "cell_type": "code",
   "execution_count": 279,
   "id": "5463f4c2-8ef4-43de-9911-d041f02f2bbe",
   "metadata": {},
   "outputs": [
    {
     "name": "stdout",
     "output_type": "stream",
     "text": [
      "21/21 [==============================] - 1s 23ms/step\n"
     ]
    }
   ],
   "source": [
    "test_features = test_data[['Close', 'RSI', 'MA']].values\n",
    "test_labels = np.where(np.roll(test_data['Close'].values, -future_window) > test_data['Close'].values, 1, 0)[:-future_window]\n",
    "\n",
    "test_features_scaled = scaler.transform(test_features) # Use the same scaler as the training data\n",
    "X_test, y_test = prepare_data_multi_feature(test_features_scaled, test_labels, window_size)\n",
    "X_test = np.reshape(X_test, (X_test.shape[0], X_test.shape[1], X_test.shape[2]))\n",
    "\n",
    "predicted_signals = model.predict(X_test) > 0.5# using 0.5 as threshold"
   ]
  },
  {
   "cell_type": "code",
   "execution_count": 280,
   "id": "c4c2f20e-d549-41e7-a94b-ac74c140ccd7",
   "metadata": {},
   "outputs": [
    {
     "name": "stdout",
     "output_type": "stream",
     "text": [
      "Accuracy: 50.62%\n"
     ]
    },
    {
     "data": {
      "image/png": "[encoded data removed]",
      "text/plain": [
       "<Figure size 600x400 with 2 Axes>"
      ]
     },
     "metadata": {},
     "output_type": "display_data"
    }
   ],
   "source": [
    "from sklearn.metrics import accuracy_score, confusion_matrix\n",
    "import seaborn as sns  # For plotting\n",
    "import matplotlib.pyplot as plt\n",
    "\n",
    "start_idx = window_size + future_window-1\n",
    "adjusted_close_prices = test_data['Close'][start_idx:start_idx + len(predicted_signals)].reset_index(drop=True)\n",
    "\n",
    "predicted_labels = predicted_signals.flatten()\n",
    "accuracy = accuracy_score(y_test, predicted_labels)\n",
    "print(f\"Accuracy: {accuracy * 100:.2f}%\")\n",
    "\n",
    "conf_matrix = confusion_matrix(y_test, predicted_labels)\n",
    "\n",
    "plt.figure(figsize=(6, 4))\n",
    "sns.heatmap(conf_matrix, annot=True, fmt='g', cmap='Blues', \n",
    "            xticklabels=['Predicted Sell', 'Predicted Buy'], \n",
    "            yticklabels=['Actual Sell', 'Actual Buy'])\n",
    "plt.ylabel('True label')\n",
    "plt.xlabel('Predicted label')\n",
    "plt.title('Confusion Matrix')\n",
    "plt.show()"
   ]
  },
  {
   "cell_type": "code",
   "execution_count": 281,
   "id": "bfba755e-8a33-407b-8fb7-64e86088d46d",
   "metadata": {},
   "outputs": [
    {
     "name": "stdout",
     "output_type": "stream",
     "text": [
      "Initial Capital: $10000.00\n",
      "Final Portfolio Value: $13157.24\n",
      "Profit/Loss: $3157.24\n"
     ]
    }
   ],
   "source": [
    "initial_capital = 10000.0\n",
    "capital = initial_capital\n",
    "shares_owned = 0\n",
    "\n",
    "for i in range(len(predicted_signals)):\n",
    "    current_price = adjusted_close_prices[i]\n",
    "    signal = predicted_signals[i]\n",
    "\n",
    "    if signal and capital > 0:\n",
    "        shares_owned = capital / current_price\n",
    "        capital = 0  # All capital is used to buy shares\n",
    "\n",
    "    elif not signal and shares_owned > 0:\n",
    "        capital = shares_owned * current_price\n",
    "        shares_owned = 0  # All shares are sold\n",
    "\n",
    "final_portfolio_value = capital + (shares_owned * adjusted_close_prices[len(adjusted_close_prices)-1])\n",
    "\n",
    "print(f\"Initial Capital: ${initial_capital:.2f}\")\n",
    "print(f\"Final Portfolio Value: ${final_portfolio_value:.2f}\")\n",
    "print(f\"Profit/Loss: ${final_portfolio_value - initial_capital:.2f}\")\n"
   ]
  },
  {
   "cell_type": "code",
   "execution_count": null,
   "id": "8e542dbf-10a6-4d49-8f66-ca844d2f07f6",
   "metadata": {},
   "outputs": [],
   "source": []
  },
  {
   "cell_type": "code",
   "execution_count": null,
   "id": "692e134c-a0d7-4ca8-a9cc-52a3cc81e28a",
   "metadata": {},
   "outputs": [],
   "source": []
  },
  {
   "cell_type": "code",
   "execution_count": null,
   "id": "bc535474-d302-4e61-a8ef-b71d39387c5e",
   "metadata": {},
   "outputs": [],
   "source": []
  },
  {
   "cell_type": "code",
   "execution_count": null,
   "id": "e75c6329-f9cb-484b-9487-494d571ebc59",
   "metadata": {},
   "outputs": [],
   "source": []
  },
  {
   "cell_type": "code",
   "execution_count": null,
   "id": "f9b7486c-d49c-4a74-b5d4-98cf7c540f56",
   "metadata": {},
   "outputs": [],
   "source": []
  }
 ],
 "metadata": {
  "kernelspec": {
   "display_name": "Python 3 (ipykernel)",
   "language": "python",
   "name": "python3"
  },
  "language_info": {
   "codemirror_mode": {
    "name": "ipython",
    "version": 3
   },
   "file_extension": ".py",
   "mimetype": "text/x-python",
   "name": "python",
   "nbconvert_exporter": "python",
   "pygments_lexer": "ipython3",
   "version": "3.11.5"
  }
 },
 "nbformat": 4,
 "nbformat_minor": 5
}
